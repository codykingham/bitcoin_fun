{
 "cells": [
  {
   "cell_type": "markdown",
   "id": "961b6d45-6fb2-4c01-a4a9-c74982cfd4eb",
   "metadata": {
    "tags": []
   },
   "source": [
    "# Bitcoin Puzzle\n",
    "\n",
    "https://twitter.com/w_s_bitcoin/status/1615543097089298432"
   ]
  },
  {
   "cell_type": "code",
   "execution_count": 49,
   "id": "485ad21d-d6a3-49c4-be46-302383048363",
   "metadata": {},
   "outputs": [],
   "source": [
    "import requests"
   ]
  },
  {
   "cell_type": "code",
   "execution_count": 53,
   "id": "a595df5f-e774-424a-abf1-9d798deb9512",
   "metadata": {},
   "outputs": [],
   "source": [
    "bip_39_wordlist = requests.get('https://raw.githubusercontent.com/bitcoin/bips/master/bip-0039/english.txt').text.strip().split()"
   ]
  },
  {
   "cell_type": "code",
   "execution_count": 54,
   "id": "931a09ca-30b0-458e-826e-2c13478642e9",
   "metadata": {},
   "outputs": [
    {
     "data": {
      "text/plain": [
       "2048"
      ]
     },
     "execution_count": 54,
     "metadata": {},
     "output_type": "execute_result"
    }
   ],
   "source": [
    "len(bip_39_wordlist)"
   ]
  },
  {
   "cell_type": "code",
   "execution_count": 55,
   "id": "42b3b05a-571f-43bb-a1f2-1a2bb5e04b8f",
   "metadata": {},
   "outputs": [
    {
     "data": {
      "text/plain": [
       "['abandon',\n",
       " 'ability',\n",
       " 'able',\n",
       " 'about',\n",
       " 'above',\n",
       " 'absent',\n",
       " 'absorb',\n",
       " 'abstract',\n",
       " 'absurd',\n",
       " 'abuse']"
      ]
     },
     "execution_count": 55,
     "metadata": {},
     "output_type": "execute_result"
    }
   ],
   "source": [
    "bip_39_wordlist[:10]"
   ]
  },
  {
   "cell_type": "code",
   "execution_count": 47,
   "id": "d9233fad-7292-4c80-a92a-c9295b5d779e",
   "metadata": {
    "tags": []
   },
   "outputs": [],
   "source": [
    "# rows = [\n",
    "#     '10001110000',\n",
    "#     '10110111010',\n",
    "#     '01001010010',  # ?.\n",
    "#     '10110100101',  # ?.\n",
    "#     '01101100010',  # ?.\n",
    "#     '11001111000',\n",
    "#     '01001110000',  # ??\n",
    "#     '11010001001',    \n",
    "#     '11101111001',\n",
    "#     '10011100010',\n",
    "#     '11010010101',\n",
    "#     '01001101011',\n",
    "#     '01100101000',\n",
    "#     '11001000111',\n",
    "#     '11101111000',\n",
    "#     '01100010001',\n",
    "#     '01111001010',\n",
    "#     '11011011100', # ?\n",
    "#     '00000111010',\n",
    "#     '00111011011',\n",
    "#     '11000110000',\n",
    "#     '11010010101',\n",
    "#     '01011110100',\n",
    "# ]\n",
    "\n",
    "round2 = [\n",
    "    '10001110000',\n",
    "    '10110111010',\n",
    "    '00001010010',  # ?\n",
    "    '10110100101',\n",
    "    '01101100010',\n",
    "    '11001111000',\n",
    "    '01001110000',\n",
    "    '11010001001',\n",
    "    '11101111001',\n",
    "    '10011100010',\n",
    "    '11010010101', # 11\n",
    "    '01001101011',\n",
    "    '01100101000',\n",
    "    '11001000111',\n",
    "    '11100111000',  # 15\n",
    "    '01100010001',\n",
    "    '01111001010',\n",
    "    '11011011100',\n",
    "    '00000111010',\n",
    "    '00111011011',\n",
    "    '11000110000',\n",
    "    '11010010101',\n",
    "    '01011110100',  # ?\n",
    "]\n",
    "\n",
    "round3 = [\n",
    "    '10001110000',\n",
    "    '10110111010',\n",
    "    '00101010010',  # ?\n",
    "    '10110100101',\n",
    "    '01101100010',\n",
    "    '11001111000',\n",
    "    '01001110000',\n",
    "    '11010001001',\n",
    "    '11101111001',\n",
    "    '10011100010',\n",
    "    '11010010101', # 11\n",
    "    '01001101011',\n",
    "    '01100101000',\n",
    "    '11001000111',\n",
    "    '11100111000', # 15\n",
    "    '01100010001',\n",
    "    '01111001010',\n",
    "    '11011011100',\n",
    "    '00000111010',\n",
    "    '00111011011',\n",
    "    '11000110000',\n",
    "    '11010010101',\n",
    "    '01011110100',  # ?\n",
    "]"
   ]
  },
  {
   "cell_type": "code",
   "execution_count": 56,
   "id": "6406fa8f-de82-47df-820c-e229543c3550",
   "metadata": {},
   "outputs": [],
   "source": [
    "def show_phrase(rows):\n",
    "    for i, binary_num in enumerate(rows):\n",
    "        int_num = int(binary_num, 2)\n",
    "        word = bip_39_wordlist[int_num]\n",
    "        print(f'{i+1}. {word}')"
   ]
  },
  {
   "cell_type": "code",
   "execution_count": 57,
   "id": "94e1d534-fdc5-44a5-92c6-809e822a7220",
   "metadata": {},
   "outputs": [
    {
     "name": "stdout",
     "output_type": "stream",
     "text": [
      "1. mix\n",
      "2. resemble\n",
      "3. engage\n",
      "4. regret\n",
      "5. hobby\n",
      "6. someone\n",
      "7. evoke\n",
      "8. spell\n",
      "9. upset\n",
      "10. ordinary\n",
      "11. sport\n",
      "12. estate\n",
      "13. govern\n",
      "14. similar\n",
      "15. upper\n",
      "16. giraffe\n",
      "17. junk\n",
      "18. swear\n",
      "19. also\n",
      "20. derive\n",
      "21. ship\n",
      "22. sport\n",
      "23. future\n"
     ]
    }
   ],
   "source": [
    "show_phrase(rows)"
   ]
  },
  {
   "cell_type": "code",
   "execution_count": 58,
   "id": "c29dbbe6-c1bf-4ba2-b4b5-0b1ff88261a5",
   "metadata": {},
   "outputs": [
    {
     "name": "stdout",
     "output_type": "stream",
     "text": [
      "1. mix\n",
      "2. resemble\n",
      "3. apart\n",
      "4. regret\n",
      "5. hobby\n",
      "6. someone\n",
      "7. evoke\n",
      "8. spell\n",
      "9. upset\n",
      "10. ordinary\n",
      "11. sport\n",
      "12. estate\n",
      "13. govern\n",
      "14. similar\n",
      "15. train\n",
      "16. giraffe\n",
      "17. junk\n",
      "18. swear\n",
      "19. also\n",
      "20. derive\n",
      "21. ship\n",
      "22. sport\n",
      "23. future\n"
     ]
    }
   ],
   "source": [
    "show_phrase(round2)"
   ]
  },
  {
   "cell_type": "code",
   "execution_count": 59,
   "id": "2315a67c-74cb-40fc-aa3f-b481b8c7394a",
   "metadata": {},
   "outputs": [
    {
     "name": "stdout",
     "output_type": "stream",
     "text": [
      "1. mix\n",
      "2. resemble\n",
      "3. clean\n",
      "4. regret\n",
      "5. hobby\n",
      "6. someone\n",
      "7. evoke\n",
      "8. spell\n",
      "9. upset\n",
      "10. ordinary\n",
      "11. sport\n",
      "12. estate\n",
      "13. govern\n",
      "14. similar\n",
      "15. train\n",
      "16. giraffe\n",
      "17. junk\n",
      "18. swear\n",
      "19. also\n",
      "20. derive\n",
      "21. ship\n",
      "22. sport\n",
      "23. future\n"
     ]
    }
   ],
   "source": [
    "show_phrase(round3)"
   ]
  },
  {
   "cell_type": "code",
   "execution_count": null,
   "id": "71124751-ccee-4f02-9916-d44621a8a346",
   "metadata": {},
   "outputs": [],
   "source": []
  }
 ],
 "metadata": {
  "kernelspec": {
   "display_name": "datascience",
   "language": "python",
   "name": "datascience"
  },
  "language_info": {
   "codemirror_mode": {
    "name": "ipython",
    "version": 3
   },
   "file_extension": ".py",
   "mimetype": "text/x-python",
   "name": "python",
   "nbconvert_exporter": "python",
   "pygments_lexer": "ipython3",
   "version": "3.10.0"
  }
 },
 "nbformat": 4,
 "nbformat_minor": 5
}
